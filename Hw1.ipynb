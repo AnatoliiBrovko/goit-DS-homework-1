{
  "nbformat": 4,
  "nbformat_minor": 0,
  "metadata": {
    "colab": {
      "provenance": []
    },
    "kernelspec": {
      "name": "python3",
      "display_name": "Python 3"
    },
    "language_info": {
      "name": "python"
    }
  },
  "cells": [
    {
      "cell_type": "code",
      "source": [
        "#1.Створіть одновимірний масив (вектор) з першими 10-ма натуральними числами та виведіть його значення.\n",
        "import numpy as np\n",
        "a = np.arange(1, 11)\n",
        "print(a)"
      ],
      "metadata": {
        "colab": {
          "base_uri": "https://localhost:8080/"
        },
        "id": "_3sMFrviQRBh",
        "outputId": "2ccafa42-8220-44e1-d33f-c9c5848d7882"
      },
      "execution_count": null,
      "outputs": [
        {
          "output_type": "stream",
          "name": "stdout",
          "text": [
            "[ 1  2  3  4  5  6  7  8  9 10]\n"
          ]
        }
      ]
    },
    {
      "cell_type": "code",
      "source": [
        "#2.Створіть двовимірний масив (матрицю) розміром 3x3, заповніть його нулями та виведіть його значення.\n",
        "import numpy as np\n",
        "a = np.zeros((3, 3), dtype=int)\n",
        "print(a)"
      ],
      "metadata": {
        "colab": {
          "base_uri": "https://localhost:8080/"
        },
        "id": "Ox-pCjBCQhf_",
        "outputId": "c664b96e-be8a-41ad-bb71-33a6fa3093b5"
      },
      "execution_count": null,
      "outputs": [
        {
          "output_type": "stream",
          "name": "stdout",
          "text": [
            "[[0 0 0]\n",
            " [0 0 0]\n",
            " [0 0 0]]\n"
          ]
        }
      ]
    },
    {
      "cell_type": "code",
      "source": [
        "#3.Створіть масив розміром 5x5, заповніть його випадковими цілими числами в діапазоні від 1 до 10 та виведіть його значення.\n",
        "import numpy as np\n",
        "a = np.random.randint(1, 11, (5, 5), dtype=int)\n",
        "print(a)"
      ],
      "metadata": {
        "id": "jg5EqjySY5aA",
        "colab": {
          "base_uri": "https://localhost:8080/"
        },
        "outputId": "5ecee911-d1e7-4e8b-e790-ecb8c2578419"
      },
      "execution_count": null,
      "outputs": [
        {
          "output_type": "stream",
          "name": "stdout",
          "text": [
            "[[ 1  2  6 10 10]\n",
            " [ 6  4  5  4 10]\n",
            " [10  6  7  6  4]\n",
            " [ 8  7 10  9  5]\n",
            " [ 6  8  2  2  8]]\n"
          ]
        }
      ]
    },
    {
      "cell_type": "code",
      "source": [
        "#4.Створіть масив розміром 4x4, заповніть його випадковими дійсними числами в діапазоні від 0 до 1 та виведіть його значення.\n",
        "import numpy as np\n",
        "a = np.random.random((4, 4))\n",
        "print(a)"
      ],
      "metadata": {
        "colab": {
          "base_uri": "https://localhost:8080/"
        },
        "id": "z1RC3VpWn4RE",
        "outputId": "0cf1897f-e68c-4391-8669-15d70b7005e9"
      },
      "execution_count": null,
      "outputs": [
        {
          "output_type": "stream",
          "name": "stdout",
          "text": [
            "[[0.2662015  0.34275186 0.46077848 0.9504375 ]\n",
            " [0.57573008 0.77486101 0.48233828 0.48198393]\n",
            " [0.02102421 0.69454261 0.26361875 0.32665104]\n",
            " [0.82862138 0.88353196 0.51782084 0.47202002]]\n"
          ]
        }
      ]
    },
    {
      "cell_type": "code",
      "source": [
        "#5.Створіть два одновимірних масиви розміром 5, заповніть їх випадковими цілими числами в діапазоні від 1 до 10 та виконайте\n",
        "#на них поелементні операції додавання, віднімання та множення.\n",
        "import numpy as np\n",
        "a = np.random.randint(1, 11, (1, 5), dtype=int)\n",
        "b = np.random.randint(1, 11, (1, 5), dtype=int)\n",
        "print(f\"\\nДодавання:\\n {a} \\n+ \\n {b} \\n=\\n\", a+b)\n",
        "print(f\"\\nВіднімання:\\n {a} \\n- \\n {b} \\n=\\n\", a-b)\n",
        "print(f\"\\nМноження:\\n {a} \\n* \\n {b} \\n=\\n\", a*b)"
      ],
      "metadata": {
        "colab": {
          "base_uri": "https://localhost:8080/"
        },
        "id": "CilYDeHxp6OR",
        "outputId": "587c1b14-6e1b-429b-8275-3bdaf445dab0"
      },
      "execution_count": null,
      "outputs": [
        {
          "output_type": "stream",
          "name": "stdout",
          "text": [
            "[[ 7  2  9 10  6]]\n",
            "[[ 8  5  6 10  3]]\n",
            "\n",
            "Додавання:\n",
            " [[ 7  2  9 10  6]] \n",
            " + \n",
            " [[ 8  5  6 10  3]] \n",
            "=\n",
            " [[15  7 15 20  9]]\n",
            "\n",
            "Віднімання:\n",
            " [[ 7  2  9 10  6]] \n",
            " - \n",
            " [[ 8  5  6 10  3]] \n",
            "=\n",
            " [[-1 -3  3  0  3]]\n",
            "\n",
            "Множення:\n",
            " [[ 7  2  9 10  6]] \n",
            " * \n",
            " [[ 8  5  6 10  3]] \n",
            "=\n",
            " [[ 56  10  54 100  18]]\n"
          ]
        }
      ]
    },
    {
      "cell_type": "code",
      "source": [
        "#6.Створіть два вектори розміром 7, заповніть довільними числами та знайдіть їх скалярний добуток.\n",
        "import numpy as np\n",
        "a = np.random.randint(1, 11, (7))\n",
        "b = np.random.randint(1, 11, (7))\n",
        "print(f\"\\nCкалярний добуток:\\n {a} \\nта \\n {b} \\n=\\n\", np.dot(a, b))"
      ],
      "metadata": {
        "colab": {
          "base_uri": "https://localhost:8080/"
        },
        "id": "lrY3L1-8rrZd",
        "outputId": "74864ab8-1538-43bb-e50c-03ff6e77f725"
      },
      "execution_count": null,
      "outputs": [
        {
          "output_type": "stream",
          "name": "stdout",
          "text": [
            "\n",
            "Cкалярний добуток:\n",
            " [7 9 8 3 4 4 8] \n",
            " та \n",
            " [2 1 5 8 2 3 2] \n",
            "=\n",
            " 123\n"
          ]
        }
      ]
    },
    {
      "cell_type": "code",
      "source": [
        "#7.Створіть дві матриці розміром 2x2 та 2x3, заповніть їх випадковими цілими числами в діапазоні від 1 до 10 та перемножте їх між собою.\n",
        "import numpy as np\n",
        "a = np.random.randint(1, 11, (2, 2), dtype=int)\n",
        "b = np.random.randint(1, 11, (2, 3), dtype=int)\n",
        "print(f\"\\nМноження:\\n {a} \\n* \\n {b} \\n=\\n\", np.dot(a, b))"
      ],
      "metadata": {
        "colab": {
          "base_uri": "https://localhost:8080/"
        },
        "id": "mQhA9YyIBgvF",
        "outputId": "c4f70d09-6d7d-4609-fe6b-0117f8aea9c0"
      },
      "execution_count": null,
      "outputs": [
        {
          "output_type": "stream",
          "name": "stdout",
          "text": [
            "\n",
            "Множення:\n",
            " [[6 3]\n",
            " [2 8]] \n",
            "* \n",
            " [[ 6  6 10]\n",
            " [ 4  5  9]] \n",
            "=\n",
            " [[48 51 87]\n",
            " [44 52 92]]\n"
          ]
        }
      ]
    },
    {
      "cell_type": "code",
      "source": [
        "#8.Створіть матрицю розміром 3x3, заповніть її випадковими цілими числами в діапазоні від 1 до 10 та знайдіть її обернену матрицю.\n",
        "import numpy as np\n",
        "a = np.random.randint(1, 11, (3, 3), dtype=int)\n",
        "print(f\"\\nМатриця:\\n {a} \\nта її обернена матриця:\\n\", np.linalg.inv(a))"
      ],
      "metadata": {
        "colab": {
          "base_uri": "https://localhost:8080/"
        },
        "id": "cBfgwCYJGtE7",
        "outputId": "8bf9c27c-24a1-4642-9a84-5e8312daae83"
      },
      "execution_count": null,
      "outputs": [
        {
          "output_type": "stream",
          "name": "stdout",
          "text": [
            "\n",
            "Матриця:\n",
            " [[5 7 8]\n",
            " [3 5 4]\n",
            " [3 5 6]] \n",
            "та її обернена матриця:\n",
            " [[ 1.25 -0.25 -1.5 ]\n",
            " [-0.75  0.75  0.5 ]\n",
            " [ 0.   -0.5   0.5 ]]\n"
          ]
        }
      ]
    },
    {
      "cell_type": "code",
      "source": [
        "#9.Створіть матрицю розміром 4x4, заповніть її випадковими дійсними числами в діапазоні від 0 до 1 та транспонуйте її.\n",
        "import numpy as np\n",
        "a = np.random.random((4, 4))\n",
        "print(f\"\\nМатриця:\\n {a} \\nта її транспонована матриця:\\n\", a.T)"
      ],
      "metadata": {
        "colab": {
          "base_uri": "https://localhost:8080/"
        },
        "id": "ZJKESU4LO9TK",
        "outputId": "7eca0912-1216-4180-d542-e24a801a484a"
      },
      "execution_count": null,
      "outputs": [
        {
          "output_type": "stream",
          "name": "stdout",
          "text": [
            "\n",
            "Матриця:\n",
            " [[0.48016602 0.23293578 0.63766577 0.4967982 ]\n",
            " [0.86704752 0.34708968 0.52627784 0.18699801]\n",
            " [0.98983138 0.35168338 0.33956071 0.03749531]\n",
            " [0.48998758 0.23037146 0.45665424 0.57134173]] \n",
            "та її транспонована матриця:\n",
            " [[0.48016602 0.86704752 0.98983138 0.48998758]\n",
            " [0.23293578 0.34708968 0.35168338 0.23037146]\n",
            " [0.63766577 0.52627784 0.33956071 0.45665424]\n",
            " [0.4967982  0.18699801 0.03749531 0.57134173]]\n"
          ]
        }
      ]
    },
    {
      "cell_type": "code",
      "source": [
        "#10.Створіть матрицю розміром 3x4 та вектор розміром 4, заповніть їх випадковими цілими числами в діапазоні від 1 до 10 та перемножте матрицю на вектор.\n",
        "import numpy as np\n",
        "a = np.random.randint(1, 11, (3, 4), dtype=int)\n",
        "b = np.random.randint(1, 11, (4), dtype=int)\n",
        "print(f\"\\nМноження матриці:\\n {a} \\nна вектор \\n {b} \\n=\\n\", np.dot(a, b))"
      ],
      "metadata": {
        "colab": {
          "base_uri": "https://localhost:8080/"
        },
        "id": "AZjNk208P6tP",
        "outputId": "65320f7f-a92a-468d-9b3a-b11c9f028332"
      },
      "execution_count": null,
      "outputs": [
        {
          "output_type": "stream",
          "name": "stdout",
          "text": [
            "\n",
            "Множення матриці:\n",
            " [[ 9  8  6  4]\n",
            " [ 2 10 10  7]\n",
            " [ 7  4  8  2]] \n",
            "на вектор \n",
            " [7 6 3 7] \n",
            "=\n",
            " [157 153 111]\n"
          ]
        }
      ]
    },
    {
      "cell_type": "code",
      "source": [
        "#11.Створіть матрицю розміром 2x3 та вектор розміром 3, заповніть їх випадковими дійсними числами в діапазоні від 0 до 1 та перемножте матрицю на вектор.\n",
        "import numpy as np\n",
        "a = np.random.random((2, 3))\n",
        "b = np.random.random((3))\n",
        "print(f\"\\nМноження матриці:\\n {a} \\nна вектор \\n {b} \\n=\\n\", np.dot(a, b))"
      ],
      "metadata": {
        "colab": {
          "base_uri": "https://localhost:8080/"
        },
        "id": "XoiOSltFR6DX",
        "outputId": "1e02e1f2-832e-4645-fbb3-db15046e9256"
      },
      "execution_count": null,
      "outputs": [
        {
          "output_type": "stream",
          "name": "stdout",
          "text": [
            "\n",
            "Множення матриці:\n",
            " [[0.6476887  0.63460998 0.61255972]\n",
            " [0.58911444 0.44289355 0.91591278]] \n",
            "на вектор \n",
            " [0.47576533 0.76797365 0.40445071] \n",
            "=\n",
            " [1.04326178 0.99085238]\n"
          ]
        }
      ]
    },
    {
      "cell_type": "code",
      "source": [
        "#12.Створіть дві матриці розміром 2x2, заповніть їх випадковими цілими числами в діапазоні від 1 до 10 та виконайте їхнє поелементне множення.\n",
        "import numpy as np\n",
        "a = np.random.randint(1, 11, (2, 2), dtype=int)\n",
        "b = np.random.randint(1, 11, (2, 2), dtype=int)\n",
        "print(f\"\\nМноження:\\n {a} \\n* \\n {b} \\n=\\n\", a * b)"
      ],
      "metadata": {
        "colab": {
          "base_uri": "https://localhost:8080/"
        },
        "id": "1ZdlYJpASgAJ",
        "outputId": "096ad311-456e-4499-cf91-01c99371edc3"
      },
      "execution_count": 16,
      "outputs": [
        {
          "output_type": "stream",
          "name": "stdout",
          "text": [
            "\n",
            "Множення:\n",
            " [[ 1 10]\n",
            " [ 8  6]] \n",
            "* \n",
            " [[ 7  3]\n",
            " [10  6]] \n",
            "=\n",
            " [[ 7 30]\n",
            " [80 36]]\n"
          ]
        }
      ]
    },
    {
      "cell_type": "code",
      "source": [
        "#13.Створіть дві матриці розміром 2x2, заповніть їх випадковими цілими числами в діапазоні від 1 до 10 та знайдіть їх добуток.\n",
        "import numpy as np\n",
        "a = np.random.random((2, 2))\n",
        "b = np.random.random((2, 2))\n",
        "print(f\"\\nДобуток:\\n {a} \\nта \\n {b} \\n=\\n\", np.dot(a, b))"
      ],
      "metadata": {
        "colab": {
          "base_uri": "https://localhost:8080/"
        },
        "id": "FouwT4sYTZAg",
        "outputId": "172a1d44-90db-4191-ac4a-68ea8c3271cd"
      },
      "execution_count": 7,
      "outputs": [
        {
          "output_type": "stream",
          "name": "stdout",
          "text": [
            "\n",
            "Добуток:\n",
            " [[0.09717957 0.35043101]\n",
            " [0.53909767 0.66784797]] \n",
            "та \n",
            " [[0.52983075 0.12281601]\n",
            " [0.15912462 0.55288603]] \n",
            "=\n",
            " [[0.10725092 0.20568361]\n",
            " [0.39190158 0.43545364]]\n"
          ]
        }
      ]
    },
    {
      "cell_type": "code",
      "source": [
        "#14.Створіть матрицю розміром 5x5, заповніть її випадковими цілими числами в діапазоні від 1 до 100 та знайдіть суму елементів матриці.\n",
        "import numpy as np\n",
        "a = np.random.randint(1, 101, (5, 5))\n",
        "print(f\"\\nCумa елементів матриці:\\n {a}\\n=\\n\", a.sum())"
      ],
      "metadata": {
        "colab": {
          "base_uri": "https://localhost:8080/"
        },
        "id": "gPVd3Qy_UfUZ",
        "outputId": "b4030484-8520-45b4-9108-5168ace625e9"
      },
      "execution_count": 14,
      "outputs": [
        {
          "output_type": "stream",
          "name": "stdout",
          "text": [
            "\n",
            "Cумa елементів матриці:\n",
            " [[26 66 82 75 13]\n",
            " [15 18 17 39 52]\n",
            " [40 88 12  3 25]\n",
            " [99 47 67 64 93]\n",
            " [81  8 94 23  2]]\n",
            "=\n",
            " 1149\n"
          ]
        }
      ]
    },
    {
      "cell_type": "code",
      "source": [
        "#15.Створіть дві матриці розміром 4x4, заповніть їх випадковими цілими числами в діапазоні від 1 до 10 та знайдіть їхню різницю.\n",
        "import numpy as np\n",
        "a = np.random.randint(1, 11, (4, 4))\n",
        "b = np.random.randint(1, 11, (4, 4))\n",
        "print(f\"\\nВіднімання:\\n {a} \\n- \\n {b} \\n=\\n\", a-b)"
      ],
      "metadata": {
        "colab": {
          "base_uri": "https://localhost:8080/"
        },
        "id": "JXE_b3EbV9ZH",
        "outputId": "6255d255-4eb0-4d72-dfbf-c0d18a0924fa"
      },
      "execution_count": 13,
      "outputs": [
        {
          "output_type": "stream",
          "name": "stdout",
          "text": [
            "\n",
            "Віднімання:\n",
            " [[ 1  8 10  3]\n",
            " [ 4 10  3  1]\n",
            " [ 8  2 10 10]\n",
            " [ 4  9 10 10]] \n",
            "- \n",
            " [[ 1  2  7  6]\n",
            " [ 6  2  7 10]\n",
            " [ 9  3  4  7]\n",
            " [ 1  1  8  3]] \n",
            "=\n",
            " [[ 0  6  3 -3]\n",
            " [-2  8 -4 -9]\n",
            " [-1 -1  6  3]\n",
            " [ 3  8  2  7]]\n"
          ]
        }
      ]
    },
    {
      "cell_type": "code",
      "source": [
        "#16.Створіть матрицю розміром 3x3, заповніть її випадковими дійсними числами в діапазоні від 0 до 1 та знайдіть вектор-стовпчик,\n",
        "#що містить суму елементів кожного рядка матриці.\n",
        "import numpy as np\n",
        "a = np.random.random((3, 3))\n",
        "b = np.sum(a, axis=1)\n",
        "print(f\"\\nМатриця:\\n {a} \\nвектор що містить суму елементів кожного рядка матриці:\\n {b} \\nвектор-стовпчик:\\n\", b.reshape((3, 1)))"
      ],
      "metadata": {
        "id": "sojZGTQyWchu",
        "colab": {
          "base_uri": "https://localhost:8080/"
        },
        "outputId": "7cfbe84d-f551-40be-8f77-6b086c12747c"
      },
      "execution_count": 6,
      "outputs": [
        {
          "output_type": "stream",
          "name": "stdout",
          "text": [
            "\n",
            "Матриця:\n",
            " [[0.32542246 0.74244681 0.14871383]\n",
            " [0.12070108 0.05629911 0.63423342]\n",
            " [0.99237274 0.1942983  0.25682979]] \n",
            "вектор що містить суму елементів кожного рядка матриці:\n",
            " [1.2165831  0.81123361 1.44350082] \n",
            "вектор-стовпчик:\n",
            " [[1.2165831 ]\n",
            " [0.81123361]\n",
            " [1.44350082]]\n"
          ]
        }
      ]
    },
    {
      "cell_type": "code",
      "source": [
        "#17.Створіть матрицю розміром 3x4 з довільними цілими числами і створінь матрицю з квадратами цих чисел.\n",
        "import numpy as np\n",
        "a = np.random.randint(1, 11, (3, 4))\n",
        "print(f\"\\nМатриця:\\n {a} \\nматриця з квадратами:\\n\", np.square(a))"
      ],
      "metadata": {
        "id": "5xvPKuXxWpUj",
        "colab": {
          "base_uri": "https://localhost:8080/"
        },
        "outputId": "fafe9eef-a6eb-45e8-ef16-110b26207ce3"
      },
      "execution_count": 9,
      "outputs": [
        {
          "output_type": "stream",
          "name": "stdout",
          "text": [
            "\n",
            "Матриця:\n",
            " [[ 2  5 10  9]\n",
            " [ 3  7  1  5]\n",
            " [ 9  2  7  5]] \n",
            "матриця з квадратами:\n",
            " [[  4  25 100  81]\n",
            " [  9  49   1  25]\n",
            " [ 81   4  49  25]]\n"
          ]
        }
      ]
    },
    {
      "cell_type": "code",
      "source": [
        "#18.Створіть вектор розміром 4, заповніть його випадковими цілими числами в діапазоні від 1 до 50 та знайдіть вектор з квадратними коренями цих чисел.\n",
        "import numpy as np\n",
        "a = np.random.randint(1, 51, (4))\n",
        "print(f\"\\nВектор:\\n {a} \\nвектор з квадратними коренями:\\n\", np.square(a))"
      ],
      "metadata": {
        "id": "0NJUiVVLWuj7",
        "colab": {
          "base_uri": "https://localhost:8080/"
        },
        "outputId": "6ef6ccd4-6461-4dad-ce96-95a6552d4e1b"
      },
      "execution_count": 12,
      "outputs": [
        {
          "output_type": "stream",
          "name": "stdout",
          "text": [
            "\n",
            "Вектор:\n",
            " [50 27 22 50] \n",
            "вектор з квадратними коренями:\n",
            " [2500  729  484 2500]\n"
          ]
        }
      ]
    }
  ]
}